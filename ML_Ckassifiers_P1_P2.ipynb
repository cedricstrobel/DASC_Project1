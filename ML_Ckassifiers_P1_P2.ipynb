{
 "cells": [
  {
   "metadata": {
    "ExecuteTime": {
     "end_time": "2025-09-23T20:31:49.682604Z",
     "start_time": "2025-09-23T20:31:49.678603Z"
    }
   },
   "cell_type": "code",
   "source": [
    "# Import Librarys\n",
    "import pandas as pd\n",
    "import numpy as np\n",
    "import os\n",
    "import matplotlib.pyplot as plt\n",
    "from sklearn.model_selection import train_test_split, GridSearchCV\n",
    "from sklearn.preprocessing import StandardScaler\n",
    "from sklearn.preprocessing import OneHotEncoder\n",
    "from sklearn.svm import SVC\n",
    "from sklearn.metrics import accuracy_score, confusion_matrix, classification_report\n",
    "from sklearn.decomposition import PCA\n",
    "from itertools import combinations\n",
    "from sklearn.preprocessing import LabelEncoder\n",
    "from sklearn.linear_model import Perceptron as SklearnPerceptron\n",
    "from sklearn.linear_model import SGDClassifier\n",
    "from sklearn.metrics import accuracy_score\n",
    "from sklearn.model_selection import train_test_split\n",
    "from sklearn.linear_model import Perceptron as SklearnPerceptron, SGDClassifier\n",
    "from sklearn.model_selection import GridSearchCV\n",
    "\n",
    "\n",
    "import gc"
   ],
   "id": "83088f7a85253282",
   "outputs": [],
   "execution_count": 50
  },
  {
   "metadata": {
    "ExecuteTime": {
     "end_time": "2025-09-23T20:31:49.764422Z",
     "start_time": "2025-09-23T20:31:49.717630Z"
    }
   },
   "cell_type": "code",
   "source": [
    "# X is features y is prediction (This for me to remember)\n",
    "# Set pathing for base and validation sets (CHANGE THESE TO YOUR PATHINGS)\n",
    "pa_path = r\"C:\\Users\\andre\\OneDrive - University of Arkansas\\Desktop\\Andrew_Branch_ML\\project_adult.csv\"\n",
    "pvi_path = r\"C:\\Users\\andre\\OneDrive - University of Arkansas\\Desktop\\Andrew_Branch_ML\\project_validation_inputs.csv\"\n",
    "output_path = r\"C:\\Users\\andre\\OneDrive - University of Arkansas\\Desktop\\Andrew_Branch_ML\"\n",
    "\n",
    "# Read the files in\n",
    "pa = pd.read_csv(pa_path)\n",
    "pvi = pd.read_csv(pvi_path)\n"
   ],
   "id": "8fdb0d90fad0c348",
   "outputs": [],
   "execution_count": 51
  },
  {
   "metadata": {
    "ExecuteTime": {
     "end_time": "2025-09-23T20:31:49.775404Z",
     "start_time": "2025-09-23T20:31:49.768824Z"
    }
   },
   "cell_type": "code",
   "source": [
    "\n",
    "def preprocess_data_label(df):\n",
    "    # Drop unnamed col, don't need\n",
    "    df = df.drop(columns=['Unnamed: 0'], errors='ignore')\n",
    "\n",
    "    # Handle missing values (simple drop, can be improved later)\n",
    "    df = df.dropna()\n",
    "\n",
    "    # Drop rows where any categorical column contains '?'\n",
    "    df = df[~df.isin(['?']).any(axis=1)]\n",
    "\n",
    "    # Separate categorical and numeric columns\n",
    "    cat_cols = df.select_dtypes(include=['object']).columns\n",
    "    income_col = df['income'].copy()\n",
    "\n",
    "    cat_cols = cat_cols.drop('income')  # remove target col\n",
    "\n",
    "    num_cols = df.select_dtypes(exclude=['object']).columns\n",
    "\n",
    "    # Encode income (target) as ordinal\n",
    "    income_col = income_col.map({'<=50K': 0, '>50K': 1})\n",
    "\n",
    "    # Apply LabelEncoder to each categorical column\n",
    "    le = LabelEncoder()\n",
    "    for col in cat_cols:\n",
    "        df[col] = le.fit_transform(df[col])\n",
    "\n",
    "    # Encode numerical values\n",
    "    scaler = StandardScaler()\n",
    "    df[num_cols] = scaler.fit_transform(df[num_cols])\n",
    "\n",
    "    # Concatenate numeric, categorical, and income\n",
    "    df = pd.concat([df[num_cols], df[cat_cols], income_col.rename('income')], axis=1)\n",
    "\n",
    "    X = df.drop(columns=['income'], axis=1)\n",
    "    y = df[['income']]\n",
    "\n",
    "    # Return Features X and Prediction y\n",
    "    return X.values, y.values.ravel()\n",
    "\n",
    "\n",
    "def preprocess_data_validation_label(df):\n",
    "    # Drop unnamed col, don't need\n",
    "    df = df.drop(columns=['Unnamed: 0'], errors='ignore')\n",
    "\n",
    "    # Handle missing values (simple drop, can be improved later)\n",
    "    df = df.dropna()\n",
    "\n",
    "    # Drop rows where any categorical column contains '?'\n",
    "    df = df[~df.isin(['?']).any(axis=1)]\n",
    "\n",
    "    # Separate categorical and numeric columns\n",
    "    cat_cols = df.select_dtypes(include=['object']).columns\n",
    "    num_cols = df.select_dtypes(exclude=['object']).columns\n",
    "\n",
    "    # Apply LabelEncoder to each categorical column\n",
    "    le = LabelEncoder()\n",
    "    for col in cat_cols:\n",
    "        df[col] = le.fit_transform(df[col])\n",
    "\n",
    "    # Encode numerical values\n",
    "    scaler = StandardScaler()\n",
    "    df[num_cols] = scaler.fit_transform(df[num_cols])\n",
    "\n",
    "    # Concatenate numeric + categorical\n",
    "    df = pd.concat([df[num_cols], df[cat_cols]], axis=1)\n",
    "\n",
    "    # Only returning X Features\n",
    "    return df.values"
   ],
   "id": "8b0d5a54c878bced",
   "outputs": [],
   "execution_count": 52
  },
  {
   "metadata": {
    "ExecuteTime": {
     "end_time": "2025-09-23T20:31:49.822588Z",
     "start_time": "2025-09-23T20:31:49.816022Z"
    }
   },
   "cell_type": "code",
   "source": [
    "class Perceptron:\n",
    "    \"\"\"Perceptron classifier.\n",
    "\n",
    "    Parameters\n",
    "    ------------\n",
    "    eta : float\n",
    "      Learning rate (between 0.0 and 1.0)\n",
    "    n_iter : int\n",
    "      Passes over the training dataset.\n",
    "    random_state : int\n",
    "      Random number generator seed for random weight\n",
    "      initialization.\n",
    "\n",
    "    Attributes\n",
    "    -----------\n",
    "    w_ : 1d-array\n",
    "      Weights after fitting.\n",
    "    b_ : Scalar\n",
    "      Bias unit after fitting.\n",
    "    errors_ : list\n",
    "      Number of misclassifications (updates) in each epoch.\n",
    "\n",
    "    self.best_errors_ : Int\n",
    "        Lowest error found within in epoc training\n",
    "    self.best_w_ : 1d-array\n",
    "        Best weights that led to the lowest error\n",
    "    self.best_b_ : Scalar\n",
    "        Best bias that lead to the lowest error\n",
    "    \"\"\"\n",
    "    def __init__(self, eta=0.01, n_iter=50, random_state=1):\n",
    "        self.eta = eta\n",
    "        self.n_iter = n_iter\n",
    "        self.random_state = random_state\n",
    "\n",
    "    def fit(self, X, y):\n",
    "        \"\"\"Fit training data.\n",
    "\n",
    "        Parameters\n",
    "        ----------\n",
    "        X : {array-like}, shape = [n_examples, n_features]\n",
    "          Training vectors, where n_examples is the number of examples and\n",
    "          n_features is the number of features.\n",
    "        y : array-like, shape = [n_examples]\n",
    "          Target values.\n",
    "\n",
    "        Returns\n",
    "        -------\n",
    "        self : object\n",
    "\n",
    "        \"\"\"\n",
    "        rgen = np.random.RandomState(self.random_state)\n",
    "        self.w_ = rgen.normal(loc=0.0, scale=0.01, size=X.shape[1])\n",
    "        # if you use libarry versions stated by book use float_, else if new use float64\n",
    "        # self.b_ = np.float_(0.)\n",
    "        self.b_ = np.float64(0.)\n",
    "\n",
    "        self.errors_ = []\n",
    "\n",
    "\n",
    "        # best identifiers\n",
    "        self.best_errors_ = float('inf')\n",
    "        self.best_w_ = self.w_.copy()\n",
    "        self.best_b_ = self.b_\n",
    "\n",
    "        for _ in range(self.n_iter):\n",
    "            errors = 0\n",
    "            for xi, target in zip(X, y):\n",
    "                update = self.eta * (target - self.predict(xi))\n",
    "                self.w_ += update * xi\n",
    "                self.b_ += update\n",
    "                errors += int(update != 0.0)\n",
    "\n",
    "            self.errors_.append(errors)\n",
    "\n",
    "            if errors < self.best_errors_:\n",
    "                self.best_errors_ = errors\n",
    "                self.best_w_ = self.w_\n",
    "                self.best_b_ = self.b_\n",
    "        return self\n",
    "\n",
    "    def net_input(self, X):\n",
    "        \"\"\"Calculate net input\"\"\"\n",
    "        return np.dot(X, self.w_) + self.b_\n",
    "\n",
    "    def predict(self, X):\n",
    "        \"\"\"Return class label after unit step\"\"\"\n",
    "        return np.where(self.net_input(X) >= 0.0, 1, 0)"
   ],
   "id": "6baa484d6e14651",
   "outputs": [],
   "execution_count": 53
  },
  {
   "metadata": {
    "ExecuteTime": {
     "end_time": "2025-09-23T20:31:49.865666Z",
     "start_time": "2025-09-23T20:31:49.854537Z"
    }
   },
   "cell_type": "code",
   "source": [
    "class AdalineSGD:\n",
    "    \"\"\"ADAptive LInear NEuron classifier (stochastic gradient descent).\n",
    "\n",
    "    Parameters\n",
    "    ------------\n",
    "    eta : float\n",
    "      Learning rate (between 0.0 and 1.0)\n",
    "    n_iter : int\n",
    "      Passes over the training dataset (epochs).\n",
    "    shuffle : bool (default: True)\n",
    "      Shuffles training data every epoch to prevent cycles.\n",
    "    random_state : int\n",
    "      Random number generator seed for reproducibility.\n",
    "\n",
    "    Attributes\n",
    "    -----------\n",
    "    w_ : 1d-array\n",
    "      Weights after fitting.\n",
    "    b_ : Scalar\n",
    "      Bias unit after fitting.\n",
    "    losses_ : list\n",
    "      Mean squared error loss function values in each epoch.\n",
    "\n",
    "    self.best_misclassifications_  : Int\n",
    "        Lowest misclassification found within in epoc training\n",
    "    self.best_w_ : 1d-array\n",
    "        Best weights that led to the lowest error\n",
    "    self.best_b_ : Scalar\n",
    "        Best bias that lead to the lowest error\n",
    "    \"\"\"\n",
    "\n",
    "    def __init__(self, eta=0.01, n_iter=50, shuffle=True, random_state=1):\n",
    "        self.eta = eta\n",
    "        self.n_iter = n_iter\n",
    "        self.shuffle = shuffle\n",
    "        self.random_state = random_state\n",
    "\n",
    "    def fit(self, X, y):\n",
    "        \"\"\"Fit training data.\"\"\"\n",
    "        self.rgen = np.random.RandomState(self.random_state)\n",
    "        self.w_ = self.rgen.normal(loc=0.0, scale=0.01, size=X.shape[1])\n",
    "        self.b_ = np.float64(0.)\n",
    "        self.losses_ = []\n",
    "        self.errors_ = []\n",
    "\n",
    "        # best identifiers\n",
    "        self.best_misclassifications_ = float('inf')\n",
    "        self.best_w_ = self.w_.copy()\n",
    "        self.best_b_ = self.b_\n",
    "\n",
    "        for _ in range(self.n_iter):\n",
    "            if self.shuffle:\n",
    "                X, y = self._shuffle(X, y)\n",
    "\n",
    "            losses = []\n",
    "            for xi, target in zip(X, y):\n",
    "                loss = self._update_weights(xi, target)\n",
    "                losses.append(loss)\n",
    "\n",
    "            avg_loss = np.mean(losses)\n",
    "            self.losses_.append(avg_loss)\n",
    "\n",
    "            # count misclassifications at the end of each epoch (haha didnt need this. asked for mse for graph)\n",
    "            y_pred = self.predict(X)\n",
    "            misclassifications = (y != y_pred).sum()\n",
    "            if misclassifications < self.best_misclassifications_:\n",
    "                self.best_misclassifications_ = misclassifications\n",
    "                self.best_w_ = self.w_.copy()\n",
    "                self.best_b_ = self.b_\n",
    "\n",
    "            self.errors_.append(misclassifications)\n",
    "\n",
    "        return self\n",
    "\n",
    "    def partial_fit(self, X, y):\n",
    "        \"\"\"Fit training data without reinitializing weights.\"\"\"\n",
    "        if not hasattr(self, \"w_\"):\n",
    "            self.rgen = np.random.RandomState(self.random_state)\n",
    "            self.w_ = self.rgen.normal(loc=0.0, scale=0.01, size=X.shape[1])\n",
    "            self.b_ = np.float64(0.)\n",
    "\n",
    "        for xi, target in zip(X, y):\n",
    "            self._update_weights(xi, target)\n",
    "\n",
    "        return self\n",
    "\n",
    "    def _shuffle(self, X, y):\n",
    "        \"\"\"Shuffle training data\"\"\"\n",
    "        idx = self.rgen.permutation(len(y))\n",
    "        return X[idx], y[idx]\n",
    "\n",
    "    def _update_weights(self, xi, target):\n",
    "        \"\"\"Apply Adaline learning rule to a single sample\"\"\"\n",
    "        net_input = self.net_input(xi)\n",
    "        output = self.activation(net_input)\n",
    "        error = target - output\n",
    "        self.w_ += self.eta * 2.0 * xi * error\n",
    "        self.b_ += self.eta * 2.0 * error\n",
    "        loss = (error**2).mean()\n",
    "        return loss\n",
    "\n",
    "    def net_input(self, X):\n",
    "        \"\"\"Calculate net input\"\"\"\n",
    "        return np.dot(X, self.w_) + self.b_\n",
    "\n",
    "    def activation(self, X):\n",
    "        \"\"\"Compute linear activation\"\"\"\n",
    "        return X\n",
    "\n",
    "    def predict(self, X):\n",
    "        \"\"\"Return class label after unit step\"\"\"\n",
    "        return np.where(self.activation(self.net_input(X)) >= 0.5, 1, 0)"
   ],
   "id": "6e049aa7d18f7d5a",
   "outputs": [],
   "execution_count": 54
  },
  {
   "metadata": {
    "ExecuteTime": {
     "end_time": "2025-09-23T20:31:49.883185Z",
     "start_time": "2025-09-23T20:31:49.874763Z"
    }
   },
   "cell_type": "code",
   "source": [
    "def net_input(X, w_, b_):\n",
    "    \"\"\"Calculate net input\"\"\"\n",
    "    return np.dot(X, w_) + b_\n",
    "\n",
    "def activation(X):\n",
    "    \"\"\"Compute linear activation\"\"\"\n",
    "    return X\n",
    "\n",
    "def predict_adaline(X, w_, b_):\n",
    "    \"\"\"Return class label after unit step\"\"\"\n",
    "    return np.where(net_input(X, w_, b_) >= 0.0, 1, 0)\n",
    "\n",
    "def predict_perceptron(X, w_, b_):\n",
    "    \"\"\"Return class label after unit step\"\"\"\n",
    "    return np.where(net_input(X, w_, b_) >= 0.5, 1, 0)"
   ],
   "id": "ef5a3b1743f750c8",
   "outputs": [],
   "execution_count": 55
  },
  {
   "metadata": {
    "ExecuteTime": {
     "end_time": "2025-09-23T20:31:50.019724Z",
     "start_time": "2025-09-23T20:31:49.904199Z"
    }
   },
   "cell_type": "code",
   "source": [
    "# Apply preprocessing\n",
    "X_label, y_label = preprocess_data_label(pa)\n",
    "X_label_validation = preprocess_data_validation_label(pvi)\n",
    "\n",
    "# Split training and test and stratify on y to make sure the split is true and representitive (Would of done cv for algo approach but didnt ): )\n",
    "X_train, X_test, y_train, y_test = train_test_split(\n",
    "    X_label, y_label,\n",
    "    test_size=0.2,\n",
    "    random_state=42,\n",
    "    stratify=y_label\n",
    ")"
   ],
   "id": "b8ce03c6559ba34c",
   "outputs": [],
   "execution_count": 56
  },
  {
   "metadata": {
    "ExecuteTime": {
     "end_time": "2025-09-23T20:32:15.191222Z",
     "start_time": "2025-09-23T20:31:50.047724Z"
    }
   },
   "cell_type": "code",
   "source": [
    "# Train Perceptron and AdalineSGD to get graphs\n",
    "ppn = Perceptron(eta=0.1, n_iter=50, random_state=1).fit(X_label, y_label)\n",
    "ada = AdalineSGD(eta=0.00001, n_iter=50).fit(X_label, y_label)"
   ],
   "id": "de39ebfd63b8b1bb",
   "outputs": [],
   "execution_count": 57
  },
  {
   "metadata": {
    "ExecuteTime": {
     "end_time": "2025-09-23T20:32:15.408859Z",
     "start_time": "2025-09-23T20:32:15.217225Z"
    }
   },
   "cell_type": "code",
   "source": [
    "axes = plt.subplots(1, 2, figsize=(12, 5))  # 1 row, 2 columns\n",
    "\n",
    "# Perceptron plot\n",
    "axes[0].plot(range(1, len(ppn.errors_) + 1), ppn.errors_, marker='o')\n",
    "axes[0].set_xlabel('Epochs')\n",
    "axes[0].set_ylabel('Number of Misclassifications')\n",
    "axes[0].set_title('Perceptron - Misclassifications')\n",
    "\n",
    "# Adaline plot\n",
    "axes[1].plot(range(1, len(ada.losses_) + 1), ada.losses_, marker='o')\n",
    "axes[1].set_xlabel('Epochs')\n",
    "axes[1].set_ylabel('MSE')\n",
    "axes[1].set_title('Adaline - MSE')\n",
    "\n",
    "# Adjust layout\n",
    "plt.tight_layout()\n",
    "plt.show()\n",
    "\n",
    "# Graphs plotted show MIS and MSE over epochs converging (Interesting thing found that if you hotcode cat columns for perceptron it doesnt converge. After the first epoch its basically at its lowest MIS. Graph for hotcode isnt shown because one of my friends told me your suppose to label encode it which is what was done part 1)"
   ],
   "id": "ec4748eea6e19bf",
   "outputs": [
    {
     "data": {
      "text/plain": [
       "<Figure size 1200x500 with 2 Axes>"
      ],
      "image/png": "[encoded data removed]"
     },
     "metadata": {},
     "output_type": "display_data"
    }
   ],
   "execution_count": 58
  },
  {
   "metadata": {
    "ExecuteTime": {
     "end_time": "2025-09-23T20:34:32.045142Z",
     "start_time": "2025-09-23T20:32:15.428886Z"
    }
   },
   "cell_type": "code",
   "source": [
    "# Setting up variables to pick the best model for each algo approach using a grid search\n",
    "best_ppn = None\n",
    "best_ppn_acc = -1\n",
    "best_ppn_params = None\n",
    "\n",
    "best_ada = None\n",
    "best_ada_acc = -1\n",
    "best_ada_params = None\n",
    "\n",
    "# Grid search variables\n",
    "etas = [0.1, 0.01, 0.001, .0001, .00001]\n",
    "n_iters = [10, 25, 50]\n",
    "\n",
    "# Grid search in action below (Basically just storing the paramters that gave me the best accuracy)\n",
    "for eta in etas:\n",
    "    for n in n_iters:\n",
    "        ppn = Perceptron(eta=eta, n_iter=n, random_state=1)\n",
    "        ppn.fit(X_train, y_train)\n",
    "\n",
    "        y_pred = ppn.predict(X_test)\n",
    "        misclassified = (y_test != y_pred).sum()\n",
    "        accuracy = (len(y_test) - misclassified) / len(y_test)\n",
    "\n",
    "        if accuracy > best_ppn_acc:\n",
    "            best_ppn_acc = accuracy\n",
    "            best_ppn = ppn\n",
    "            best_ppn_params = (eta, n)\n",
    "            best_ppn_mis = misclassified\n",
    "\n",
    "# Grid search in action below (Basically just storing the paramters that gave me the best accuracy)\n",
    "for eta in etas:\n",
    "    for n in n_iters:\n",
    "        ada = AdalineSGD(eta=eta, n_iter=n, random_state=1)\n",
    "        ada.fit(X_train, y_train)\n",
    "\n",
    "        y_pred = ada.predict(X_test)\n",
    "        misclassified = (y_test != y_pred).sum()\n",
    "        accuracy = (len(y_test) - misclassified) / len(y_test)\n",
    "\n",
    "        if accuracy > best_ada_acc:\n",
    "            best_ada_acc = accuracy\n",
    "            best_ada = ada\n",
    "            best_ada_params = (eta, n)\n",
    "            best_ada_mis = misclassified\n",
    "\n",
    "# Printed evals (Pretty similar, supprising the Adaline model got a little bit lower then perceptron)\n",
    "print(\"=== Best Perceptron Model ===\")\n",
    "print(f\"Params: eta={best_ppn_params[0]}, n_iter={best_ppn_params[1]}\")\n",
    "print(f\"Misclassified={best_ppn_mis}, Accuracy={best_ppn_acc:.4f}\")\n",
    "\n",
    "print(\"\\n=== Best AdalineSGD Model ===\")\n",
    "print(f\"Params: eta={best_ada_params[0]}, n_iter={best_ada_params[1]}\")\n",
    "print(f\"Misclassified={best_ada_mis}, Accuracy={best_ada_acc:.4f}\")"
   ],
   "id": "7889fbfe82915141",
   "outputs": [
    {
     "name": "stderr",
     "output_type": "stream",
     "text": [
      "C:\\Users\\andre\\AppData\\Local\\Temp\\ipykernel_73324\\1120418412.py:92: RuntimeWarning: overflow encountered in double_scalars\n",
      "  loss = (error**2).mean()\n",
      "C:\\Users\\andre\\AppData\\Local\\Temp\\ipykernel_73324\\1120418412.py:90: RuntimeWarning: invalid value encountered in multiply\n",
      "  self.w_ += self.eta * 2.0 * xi * error\n"
     ]
    },
    {
     "name": "stdout",
     "output_type": "stream",
     "text": [
      "=== Best Perceptron Model ===\n",
      "Params: eta=0.0001, n_iter=50\n",
      "Misclassified=919, Accuracy=0.8098\n",
      "\n",
      "=== Best AdalineSGD Model ===\n",
      "Params: eta=1e-05, n_iter=10\n",
      "Misclassified=947, Accuracy=0.8040\n"
     ]
    }
   ],
   "execution_count": 59
  },
  {
   "metadata": {
    "ExecuteTime": {
     "end_time": "2025-09-23T20:35:18.880856Z",
     "start_time": "2025-09-23T20:35:16.856701Z"
    }
   },
   "cell_type": "code",
   "source": [
    "# Sklearn implementation (This is the ones we use for our final predictions since the accuracys are little higher then the algo approach)\n",
    "\n",
    "# Setting up param grid to use sklearn GridSearchCV (This is a pretty cool function, didnt relize how easy it was to use)\n",
    "param_grid = {\n",
    "    \"max_iter\": [10, 25, 50, 100],\n",
    "    \"eta0\" : [0.1, 0.01, 0.001, .0001, .00001]\n",
    "}\n",
    "\n",
    "# Running GridSearchCV with Perceptron (tol=None just has it so it does the full number of iterations instead of stopping when improvement is very little)\n",
    "grid_ppn = GridSearchCV(\n",
    "    estimator=SklearnPerceptron(random_state=42, tol=None),\n",
    "    param_grid=param_grid,\n",
    "    cv=5,\n",
    "    scoring=\"accuracy\",\n",
    "    n_jobs=-1\n",
    ")\n",
    "\n",
    "# Now actually fitting the perceptron model\n",
    "grid_ppn.fit(X_label, y_label)\n",
    "\n",
    "# Printed evals\n",
    "print(\"=== Best Scikit-learn Perceptron (GridSearchCV) ===\")\n",
    "print(\"Best Params:\", grid_ppn.best_params_)\n",
    "print(\"Best CV Accuracy:\", grid_ppn.best_score_, \"\\n\")\n",
    "\n",
    "# Running GridSearchCV with Adaline (tol=None just has it so it does the full number of iterations instead of stopping when improvement is very little)\n",
    "grid_ada = GridSearchCV(\n",
    "    estimator=SGDClassifier(loss='perceptron', learning_rate='constant', random_state=42, tol=None),\n",
    "    param_grid=param_grid,\n",
    "    cv=5,\n",
    "    scoring=\"accuracy\",\n",
    "    n_jobs=-1\n",
    ")\n",
    "\n",
    "# Now actually fitting the adaline model\n",
    "grid_ada.fit(X_label, y_label)\n",
    "\n",
    "# Printed evals\n",
    "print(\"=== Best Scikit-learn Adaline (GridSearchCV) ===\")\n",
    "print(\"Best Params:\", grid_ada.best_params_)\n",
    "print(\"Best CV Accuracy:\", grid_ada.best_score_)"
   ],
   "id": "6bf7e205437e5dff",
   "outputs": [
    {
     "name": "stdout",
     "output_type": "stream",
     "text": [
      "=== Best Scikit-learn Perceptron (GridSearchCV) ===\n",
      "Best Params: {'eta0': 0.1, 'max_iter': 100}\n",
      "Best CV Accuracy: 0.8100766932243608 \n",
      "\n",
      "=== Best Scikit-learn Adaline (GridSearchCV) ===\n",
      "Best Params: {'eta0': 0.0001, 'max_iter': 100}\n",
      "Best CV Accuracy: 0.8095384509671945\n"
     ]
    }
   ],
   "execution_count": 63
  },
  {
   "metadata": {
    "ExecuteTime": {
     "end_time": "2025-09-23T20:40:05.203252Z",
     "start_time": "2025-09-23T20:40:05.175619Z"
    }
   },
   "cell_type": "code",
   "source": [
    "# Now using the best models to predict the validation set of data\n",
    "best_ppn = grid_ppn.best_estimator_\n",
    "ppn_val_preds_sklearn = best_ppn.predict(X_label_validation)\n",
    "\n",
    "best_ada = grid_ada.best_estimator_\n",
    "ada_val_preds_sklearn = best_ada.predict(X_label_validation)\n",
    "\n",
    "# Convert predictions to DataFrame\n",
    "ppn_val_preds_df = pd.DataFrame(ppn_val_preds_sklearn, columns=[\"Prediction\"])\n",
    "ada_val_preds_df = pd.DataFrame(ada_val_preds_sklearn, columns=[\"Prediction\"])\n",
    "\n",
    "# Save to CSV\n",
    "ppn_val_preds_df.to_csv(fr\"{output_path}\\Group_28_Perceptron_PredictedOutputs.csv\", index=False)\n",
    "ada_val_preds_df.to_csv(fr\"{output_path}\\Group_28_Adaline_PredictedOutputs.csv\", index=False)"
   ],
   "id": "bef1b56de116953f",
   "outputs": [],
   "execution_count": 70
  },
  {
   "metadata": {
    "ExecuteTime": {
     "end_time": "2025-09-23T20:38:44.487119Z",
     "start_time": "2025-09-23T20:38:44.484118Z"
    }
   },
   "cell_type": "code",
   "source": "",
   "id": "ff6500a3826511c3",
   "outputs": [
    {
     "name": "stdout",
     "output_type": "stream",
     "text": [
      "C:\\Users\\andre\\OneDrive - University of Arkansas\\Desktop\\Andrew_Branch_ML\n"
     ]
    }
   ],
   "execution_count": 68
  }
 ],
 "metadata": {
  "kernelspec": {
   "name": "python3",
   "language": "python",
   "display_name": "Python 3 (ipykernel)"
  }
 },
 "nbformat": 5,
 "nbformat_minor": 9
}
